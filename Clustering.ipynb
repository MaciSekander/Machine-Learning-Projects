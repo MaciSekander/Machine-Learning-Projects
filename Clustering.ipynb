{
  "nbformat": 4,
  "nbformat_minor": 0,
  "metadata": {
    "colab": {
      "provenance": []
    },
    "kernelspec": {
      "name": "python3",
      "display_name": "Python 3"
    },
    "language_info": {
      "name": "python"
    }
  },
  "cells": [
    {
      "cell_type": "code",
      "execution_count": null,
      "metadata": {
        "id": "bRsF4Khy4ocH"
      },
      "outputs": [],
      "source": [
        "import pandas as pd\n",
        "import numpy as np\n",
        "import matplotlib.pyplot as plt\n",
        "\n",
        "\n",
        "from sklearn.decomposition import PCA\n",
        "from sklearn import datasets\n",
        "from sklearn.cluster import KMeans"
      ]
    },
    {
      "cell_type": "code",
      "source": [
        "#solve here\n",
        "#import IRIS dataset\n",
        "\n",
        "iris=datasets.load_iris()\n",
        "print(iris)"
      ],
      "metadata": {
        "colab": {
          "base_uri": "https://localhost:8080/"
        },
        "id": "Qo8cadFq5D40",
        "outputId": "13a5014d-3fe3-4a44-df5a-193300acc3f4"
      },
      "execution_count": null,
      "outputs": [
        {
          "output_type": "stream",
          "name": "stdout",
          "text": [
            "{'data': array([[5.1, 3.5, 1.4, 0.2],\n",
            "       [4.9, 3. , 1.4, 0.2],\n",
            "       [4.7, 3.2, 1.3, 0.2],\n",
            "       [4.6, 3.1, 1.5, 0.2],\n",
            "       [5. , 3.6, 1.4, 0.2],\n",
            "       [5.4, 3.9, 1.7, 0.4],\n",
            "       [4.6, 3.4, 1.4, 0.3],\n",
            "       [5. , 3.4, 1.5, 0.2],\n",
            "       [4.4, 2.9, 1.4, 0.2],\n",
            "       [4.9, 3.1, 1.5, 0.1],\n",
            "       [5.4, 3.7, 1.5, 0.2],\n",
            "       [4.8, 3.4, 1.6, 0.2],\n",
            "       [4.8, 3. , 1.4, 0.1],\n",
            "       [4.3, 3. , 1.1, 0.1],\n",
            "       [5.8, 4. , 1.2, 0.2],\n",
            "       [5.7, 4.4, 1.5, 0.4],\n",
            "       [5.4, 3.9, 1.3, 0.4],\n",
            "       [5.1, 3.5, 1.4, 0.3],\n",
            "       [5.7, 3.8, 1.7, 0.3],\n",
            "       [5.1, 3.8, 1.5, 0.3],\n",
            "       [5.4, 3.4, 1.7, 0.2],\n",
            "       [5.1, 3.7, 1.5, 0.4],\n",
            "       [4.6, 3.6, 1. , 0.2],\n",
            "       [5.1, 3.3, 1.7, 0.5],\n",
            "       [4.8, 3.4, 1.9, 0.2],\n",
            "       [5. , 3. , 1.6, 0.2],\n",
            "       [5. , 3.4, 1.6, 0.4],\n",
            "       [5.2, 3.5, 1.5, 0.2],\n",
            "       [5.2, 3.4, 1.4, 0.2],\n",
            "       [4.7, 3.2, 1.6, 0.2],\n",
            "       [4.8, 3.1, 1.6, 0.2],\n",
            "       [5.4, 3.4, 1.5, 0.4],\n",
            "       [5.2, 4.1, 1.5, 0.1],\n",
            "       [5.5, 4.2, 1.4, 0.2],\n",
            "       [4.9, 3.1, 1.5, 0.2],\n",
            "       [5. , 3.2, 1.2, 0.2],\n",
            "       [5.5, 3.5, 1.3, 0.2],\n",
            "       [4.9, 3.6, 1.4, 0.1],\n",
            "       [4.4, 3. , 1.3, 0.2],\n",
            "       [5.1, 3.4, 1.5, 0.2],\n",
            "       [5. , 3.5, 1.3, 0.3],\n",
            "       [4.5, 2.3, 1.3, 0.3],\n",
            "       [4.4, 3.2, 1.3, 0.2],\n",
            "       [5. , 3.5, 1.6, 0.6],\n",
            "       [5.1, 3.8, 1.9, 0.4],\n",
            "       [4.8, 3. , 1.4, 0.3],\n",
            "       [5.1, 3.8, 1.6, 0.2],\n",
            "       [4.6, 3.2, 1.4, 0.2],\n",
            "       [5.3, 3.7, 1.5, 0.2],\n",
            "       [5. , 3.3, 1.4, 0.2],\n",
            "       [7. , 3.2, 4.7, 1.4],\n",
            "       [6.4, 3.2, 4.5, 1.5],\n",
            "       [6.9, 3.1, 4.9, 1.5],\n",
            "       [5.5, 2.3, 4. , 1.3],\n",
            "       [6.5, 2.8, 4.6, 1.5],\n",
            "       [5.7, 2.8, 4.5, 1.3],\n",
            "       [6.3, 3.3, 4.7, 1.6],\n",
            "       [4.9, 2.4, 3.3, 1. ],\n",
            "       [6.6, 2.9, 4.6, 1.3],\n",
            "       [5.2, 2.7, 3.9, 1.4],\n",
            "       [5. , 2. , 3.5, 1. ],\n",
            "       [5.9, 3. , 4.2, 1.5],\n",
            "       [6. , 2.2, 4. , 1. ],\n",
            "       [6.1, 2.9, 4.7, 1.4],\n",
            "       [5.6, 2.9, 3.6, 1.3],\n",
            "       [6.7, 3.1, 4.4, 1.4],\n",
            "       [5.6, 3. , 4.5, 1.5],\n",
            "       [5.8, 2.7, 4.1, 1. ],\n",
            "       [6.2, 2.2, 4.5, 1.5],\n",
            "       [5.6, 2.5, 3.9, 1.1],\n",
            "       [5.9, 3.2, 4.8, 1.8],\n",
            "       [6.1, 2.8, 4. , 1.3],\n",
            "       [6.3, 2.5, 4.9, 1.5],\n",
            "       [6.1, 2.8, 4.7, 1.2],\n",
            "       [6.4, 2.9, 4.3, 1.3],\n",
            "       [6.6, 3. , 4.4, 1.4],\n",
            "       [6.8, 2.8, 4.8, 1.4],\n",
            "       [6.7, 3. , 5. , 1.7],\n",
            "       [6. , 2.9, 4.5, 1.5],\n",
            "       [5.7, 2.6, 3.5, 1. ],\n",
            "       [5.5, 2.4, 3.8, 1.1],\n",
            "       [5.5, 2.4, 3.7, 1. ],\n",
            "       [5.8, 2.7, 3.9, 1.2],\n",
            "       [6. , 2.7, 5.1, 1.6],\n",
            "       [5.4, 3. , 4.5, 1.5],\n",
            "       [6. , 3.4, 4.5, 1.6],\n",
            "       [6.7, 3.1, 4.7, 1.5],\n",
            "       [6.3, 2.3, 4.4, 1.3],\n",
            "       [5.6, 3. , 4.1, 1.3],\n",
            "       [5.5, 2.5, 4. , 1.3],\n",
            "       [5.5, 2.6, 4.4, 1.2],\n",
            "       [6.1, 3. , 4.6, 1.4],\n",
            "       [5.8, 2.6, 4. , 1.2],\n",
            "       [5. , 2.3, 3.3, 1. ],\n",
            "       [5.6, 2.7, 4.2, 1.3],\n",
            "       [5.7, 3. , 4.2, 1.2],\n",
            "       [5.7, 2.9, 4.2, 1.3],\n",
            "       [6.2, 2.9, 4.3, 1.3],\n",
            "       [5.1, 2.5, 3. , 1.1],\n",
            "       [5.7, 2.8, 4.1, 1.3],\n",
            "       [6.3, 3.3, 6. , 2.5],\n",
            "       [5.8, 2.7, 5.1, 1.9],\n",
            "       [7.1, 3. , 5.9, 2.1],\n",
            "       [6.3, 2.9, 5.6, 1.8],\n",
            "       [6.5, 3. , 5.8, 2.2],\n",
            "       [7.6, 3. , 6.6, 2.1],\n",
            "       [4.9, 2.5, 4.5, 1.7],\n",
            "       [7.3, 2.9, 6.3, 1.8],\n",
            "       [6.7, 2.5, 5.8, 1.8],\n",
            "       [7.2, 3.6, 6.1, 2.5],\n",
            "       [6.5, 3.2, 5.1, 2. ],\n",
            "       [6.4, 2.7, 5.3, 1.9],\n",
            "       [6.8, 3. , 5.5, 2.1],\n",
            "       [5.7, 2.5, 5. , 2. ],\n",
            "       [5.8, 2.8, 5.1, 2.4],\n",
            "       [6.4, 3.2, 5.3, 2.3],\n",
            "       [6.5, 3. , 5.5, 1.8],\n",
            "       [7.7, 3.8, 6.7, 2.2],\n",
            "       [7.7, 2.6, 6.9, 2.3],\n",
            "       [6. , 2.2, 5. , 1.5],\n",
            "       [6.9, 3.2, 5.7, 2.3],\n",
            "       [5.6, 2.8, 4.9, 2. ],\n",
            "       [7.7, 2.8, 6.7, 2. ],\n",
            "       [6.3, 2.7, 4.9, 1.8],\n",
            "       [6.7, 3.3, 5.7, 2.1],\n",
            "       [7.2, 3.2, 6. , 1.8],\n",
            "       [6.2, 2.8, 4.8, 1.8],\n",
            "       [6.1, 3. , 4.9, 1.8],\n",
            "       [6.4, 2.8, 5.6, 2.1],\n",
            "       [7.2, 3. , 5.8, 1.6],\n",
            "       [7.4, 2.8, 6.1, 1.9],\n",
            "       [7.9, 3.8, 6.4, 2. ],\n",
            "       [6.4, 2.8, 5.6, 2.2],\n",
            "       [6.3, 2.8, 5.1, 1.5],\n",
            "       [6.1, 2.6, 5.6, 1.4],\n",
            "       [7.7, 3. , 6.1, 2.3],\n",
            "       [6.3, 3.4, 5.6, 2.4],\n",
            "       [6.4, 3.1, 5.5, 1.8],\n",
            "       [6. , 3. , 4.8, 1.8],\n",
            "       [6.9, 3.1, 5.4, 2.1],\n",
            "       [6.7, 3.1, 5.6, 2.4],\n",
            "       [6.9, 3.1, 5.1, 2.3],\n",
            "       [5.8, 2.7, 5.1, 1.9],\n",
            "       [6.8, 3.2, 5.9, 2.3],\n",
            "       [6.7, 3.3, 5.7, 2.5],\n",
            "       [6.7, 3. , 5.2, 2.3],\n",
            "       [6.3, 2.5, 5. , 1.9],\n",
            "       [6.5, 3. , 5.2, 2. ],\n",
            "       [6.2, 3.4, 5.4, 2.3],\n",
            "       [5.9, 3. , 5.1, 1.8]]), 'target': array([0, 0, 0, 0, 0, 0, 0, 0, 0, 0, 0, 0, 0, 0, 0, 0, 0, 0, 0, 0, 0, 0,\n",
            "       0, 0, 0, 0, 0, 0, 0, 0, 0, 0, 0, 0, 0, 0, 0, 0, 0, 0, 0, 0, 0, 0,\n",
            "       0, 0, 0, 0, 0, 0, 1, 1, 1, 1, 1, 1, 1, 1, 1, 1, 1, 1, 1, 1, 1, 1,\n",
            "       1, 1, 1, 1, 1, 1, 1, 1, 1, 1, 1, 1, 1, 1, 1, 1, 1, 1, 1, 1, 1, 1,\n",
            "       1, 1, 1, 1, 1, 1, 1, 1, 1, 1, 1, 1, 2, 2, 2, 2, 2, 2, 2, 2, 2, 2,\n",
            "       2, 2, 2, 2, 2, 2, 2, 2, 2, 2, 2, 2, 2, 2, 2, 2, 2, 2, 2, 2, 2, 2,\n",
            "       2, 2, 2, 2, 2, 2, 2, 2, 2, 2, 2, 2, 2, 2, 2, 2, 2, 2]), 'frame': None, 'target_names': array(['setosa', 'versicolor', 'virginica'], dtype='<U10'), 'DESCR': '.. _iris_dataset:\\n\\nIris plants dataset\\n--------------------\\n\\n**Data Set Characteristics:**\\n\\n    :Number of Instances: 150 (50 in each of three classes)\\n    :Number of Attributes: 4 numeric, predictive attributes and the class\\n    :Attribute Information:\\n        - sepal length in cm\\n        - sepal width in cm\\n        - petal length in cm\\n        - petal width in cm\\n        - class:\\n                - Iris-Setosa\\n                - Iris-Versicolour\\n                - Iris-Virginica\\n                \\n    :Summary Statistics:\\n\\n    ============== ==== ==== ======= ===== ====================\\n                    Min  Max   Mean    SD   Class Correlation\\n    ============== ==== ==== ======= ===== ====================\\n    sepal length:   4.3  7.9   5.84   0.83    0.7826\\n    sepal width:    2.0  4.4   3.05   0.43   -0.4194\\n    petal length:   1.0  6.9   3.76   1.76    0.9490  (high!)\\n    petal width:    0.1  2.5   1.20   0.76    0.9565  (high!)\\n    ============== ==== ==== ======= ===== ====================\\n\\n    :Missing Attribute Values: None\\n    :Class Distribution: 33.3% for each of 3 classes.\\n    :Creator: R.A. Fisher\\n    :Donor: Michael Marshall (MARSHALL%PLU@io.arc.nasa.gov)\\n    :Date: July, 1988\\n\\nThe famous Iris database, first used by Sir R.A. Fisher. The dataset is taken\\nfrom Fisher\\'s paper. Note that it\\'s the same as in R, but not as in the UCI\\nMachine Learning Repository, which has two wrong data points.\\n\\nThis is perhaps the best known database to be found in the\\npattern recognition literature.  Fisher\\'s paper is a classic in the field and\\nis referenced frequently to this day.  (See Duda & Hart, for example.)  The\\ndata set contains 3 classes of 50 instances each, where each class refers to a\\ntype of iris plant.  One class is linearly separable from the other 2; the\\nlatter are NOT linearly separable from each other.\\n\\n.. topic:: References\\n\\n   - Fisher, R.A. \"The use of multiple measurements in taxonomic problems\"\\n     Annual Eugenics, 7, Part II, 179-188 (1936); also in \"Contributions to\\n     Mathematical Statistics\" (John Wiley, NY, 1950).\\n   - Duda, R.O., & Hart, P.E. (1973) Pattern Classification and Scene Analysis.\\n     (Q327.D83) John Wiley & Sons.  ISBN 0-471-22361-1.  See page 218.\\n   - Dasarathy, B.V. (1980) \"Nosing Around the Neighborhood: A New System\\n     Structure and Classification Rule for Recognition in Partially Exposed\\n     Environments\".  IEEE Transactions on Pattern Analysis and Machine\\n     Intelligence, Vol. PAMI-2, No. 1, 67-71.\\n   - Gates, G.W. (1972) \"The Reduced Nearest Neighbor Rule\".  IEEE Transactions\\n     on Information Theory, May 1972, 431-433.\\n   - See also: 1988 MLC Proceedings, 54-64.  Cheeseman et al\"s AUTOCLASS II\\n     conceptual clustering system finds 3 classes in the data.\\n   - Many, many more ...', 'feature_names': ['sepal length (cm)', 'sepal width (cm)', 'petal length (cm)', 'petal width (cm)'], 'filename': 'iris.csv', 'data_module': 'sklearn.datasets.data'}\n"
          ]
        }
      ]
    },
    {
      "cell_type": "code",
      "source": [
        "x=iris.data\n",
        "y=iris.target\n",
        "print(\"X=\\n\",x[:4,:4])\n",
        "print(\"Y=\\n\",y[0:150])\n"
      ],
      "metadata": {
        "colab": {
          "base_uri": "https://localhost:8080/"
        },
        "id": "n3kJQcMC6lv5",
        "outputId": "d6fb20b5-ede3-4b3e-f13d-c16ef431ea41"
      },
      "execution_count": null,
      "outputs": [
        {
          "output_type": "stream",
          "name": "stdout",
          "text": [
            "X=\n",
            " [[5.1 3.5 1.4 0.2]\n",
            " [4.9 3.  1.4 0.2]\n",
            " [4.7 3.2 1.3 0.2]\n",
            " [4.6 3.1 1.5 0.2]]\n",
            "Y=\n",
            " [0 0 0 0 0 0 0 0 0 0 0 0 0 0 0 0 0 0 0 0 0 0 0 0 0 0 0 0 0 0 0 0 0 0 0 0 0\n",
            " 0 0 0 0 0 0 0 0 0 0 0 0 0 1 1 1 1 1 1 1 1 1 1 1 1 1 1 1 1 1 1 1 1 1 1 1 1\n",
            " 1 1 1 1 1 1 1 1 1 1 1 1 1 1 1 1 1 1 1 1 1 1 1 1 1 1 2 2 2 2 2 2 2 2 2 2 2\n",
            " 2 2 2 2 2 2 2 2 2 2 2 2 2 2 2 2 2 2 2 2 2 2 2 2 2 2 2 2 2 2 2 2 2 2 2 2 2\n",
            " 2 2]\n"
          ]
        }
      ]
    },
    {
      "cell_type": "code",
      "source": [
        "#converted to a 3 reduced PCA\n",
        "pca_3=PCA(n_components=3)\n",
        "\n",
        "reduced_data=pca_3.fit_transform(x)\n",
        "plt.bar([\"P1\",\"P2\",\"P3\"],pca_3.explained_variance_ratio_)"
      ],
      "metadata": {
        "colab": {
          "base_uri": "https://localhost:8080/",
          "height": 281
        },
        "id": "gesYWNwn7HIh",
        "outputId": "cea3ba6f-05a1-47b6-d60b-ff354932b3f7"
      },
      "execution_count": null,
      "outputs": [
        {
          "output_type": "execute_result",
          "data": {
            "text/plain": [
              "<BarContainer object of 3 artists>"
            ]
          },
          "metadata": {},
          "execution_count": 15
        },
        {
          "output_type": "display_data",
          "data": {
            "text/plain": [
              "<Figure size 432x288 with 1 Axes>"
            ],
            "image/png": "[encoded data removed]"
          },
          "metadata": {
            "needs_background": "light"
          }
        }
      ]
    },
    {
      "cell_type": "code",
      "source": [
        "#converted to a full component array 4\n",
        "pca_4=PCA(n_components=4)\n",
        "\n",
        "data=pca_4.fit_transform(x)\n",
        "plt.bar([\"P1\",\"P2\",\"P3\",\"P4\"],pca_4.explained_variance_ratio_)"
      ],
      "metadata": {
        "colab": {
          "base_uri": "https://localhost:8080/",
          "height": 281
        },
        "id": "Pn6P858V8Kn0",
        "outputId": "d170de9e-8e3f-4c44-b094-460157da79f6"
      },
      "execution_count": null,
      "outputs": [
        {
          "output_type": "execute_result",
          "data": {
            "text/plain": [
              "<BarContainer object of 4 artists>"
            ]
          },
          "metadata": {},
          "execution_count": 22
        },
        {
          "output_type": "display_data",
          "data": {
            "text/plain": [
              "<Figure size 432x288 with 1 Axes>"
            ],
            "image/png": "[encoded data removed]"
          },
          "metadata": {
            "needs_background": "light"
          }
        }
      ]
    },
    {
      "cell_type": "code",
      "source": [
        "#created a reduced array with 3 components no bar chart \n",
        "pca_3=PCA(n_components=3)\n",
        "\n",
        "reduced_data3=pca_3.fit_transform(x)\n",
        "print(reduced_data)"
      ],
      "metadata": {
        "colab": {
          "base_uri": "https://localhost:8080/"
        },
        "id": "9tlEc7J580mT",
        "outputId": "1b6487b6-3f56-4092-a6e3-25c3beed2c4d"
      },
      "execution_count": null,
      "outputs": [
        {
          "output_type": "stream",
          "name": "stdout",
          "text": [
            "[[-2.68412563  0.31939725 -0.02791483]\n",
            " [-2.71414169 -0.17700123 -0.21046427]\n",
            " [-2.88899057 -0.14494943  0.01790026]\n",
            " [-2.74534286 -0.31829898  0.03155937]\n",
            " [-2.72871654  0.32675451  0.09007924]\n",
            " [-2.28085963  0.74133045  0.16867766]\n",
            " [-2.82053775 -0.08946138  0.25789216]\n",
            " [-2.62614497  0.16338496 -0.02187932]\n",
            " [-2.88638273 -0.57831175  0.02075957]\n",
            " [-2.6727558  -0.11377425 -0.19763272]\n",
            " [-2.50694709  0.6450689  -0.07531801]\n",
            " [-2.61275523  0.01472994  0.10215026]\n",
            " [-2.78610927 -0.235112   -0.20684443]\n",
            " [-3.22380374 -0.51139459  0.06129967]\n",
            " [-2.64475039  1.17876464 -0.15162752]\n",
            " [-2.38603903  1.33806233  0.2777769 ]\n",
            " [-2.62352788  0.81067951  0.13818323]\n",
            " [-2.64829671  0.31184914  0.02666832]\n",
            " [-2.19982032  0.87283904 -0.12030552]\n",
            " [-2.5879864   0.51356031  0.21366517]\n",
            " [-2.31025622  0.39134594 -0.23944404]\n",
            " [-2.54370523  0.43299606  0.20845723]\n",
            " [-3.21593942  0.13346807  0.29239675]\n",
            " [-2.30273318  0.09870885  0.03912326]\n",
            " [-2.35575405 -0.03728186  0.12502108]\n",
            " [-2.50666891 -0.14601688 -0.25342004]\n",
            " [-2.46882007  0.13095149  0.09491058]\n",
            " [-2.56231991  0.36771886 -0.07849421]\n",
            " [-2.63953472  0.31203998 -0.1459089 ]\n",
            " [-2.63198939 -0.19696122  0.04077108]\n",
            " [-2.58739848 -0.20431849 -0.07722299]\n",
            " [-2.4099325   0.41092426 -0.14552497]\n",
            " [-2.64886233  0.81336382  0.22566915]\n",
            " [-2.59873675  1.09314576  0.15781081]\n",
            " [-2.63692688 -0.12132235 -0.14304958]\n",
            " [-2.86624165  0.06936447 -0.16433231]\n",
            " [-2.62523805  0.59937002 -0.26835038]\n",
            " [-2.80068412  0.26864374  0.09369908]\n",
            " [-2.98050204 -0.48795834  0.07292705]\n",
            " [-2.59000631  0.22904384 -0.0800823 ]\n",
            " [-2.77010243  0.26352753  0.07724769]\n",
            " [-2.84936871 -0.94096057 -0.34923038]\n",
            " [-2.99740655 -0.34192606  0.19250921]\n",
            " [-2.40561449  0.18887143  0.26386795]\n",
            " [-2.20948924  0.43666314  0.29874275]\n",
            " [-2.71445143 -0.2502082  -0.09767814]\n",
            " [-2.53814826  0.50377114  0.16670564]\n",
            " [-2.83946217 -0.22794557  0.08372685]\n",
            " [-2.54308575  0.57941002 -0.01711502]\n",
            " [-2.70335978  0.10770608 -0.08929401]\n",
            " [ 1.28482569  0.68516047 -0.40656803]\n",
            " [ 0.93248853  0.31833364 -0.01801419]\n",
            " [ 1.46430232  0.50426282 -0.33832576]\n",
            " [ 0.18331772 -0.82795901 -0.17959139]\n",
            " [ 1.08810326  0.07459068 -0.3077579 ]\n",
            " [ 0.64166908 -0.41824687  0.04107609]\n",
            " [ 1.09506066  0.28346827  0.16981024]\n",
            " [-0.74912267 -1.00489096  0.01230292]\n",
            " [ 1.04413183  0.2283619  -0.41533608]\n",
            " [-0.0087454  -0.72308191  0.28114143]\n",
            " [-0.50784088 -1.26597119 -0.26981718]\n",
            " [ 0.51169856 -0.10398124  0.13054775]\n",
            " [ 0.26497651 -0.55003646 -0.69414683]\n",
            " [ 0.98493451 -0.12481785 -0.06211441]\n",
            " [-0.17392537 -0.25485421  0.09045769]\n",
            " [ 0.92786078  0.46717949 -0.31462098]\n",
            " [ 0.66028376 -0.35296967  0.32802753]\n",
            " [ 0.23610499 -0.33361077 -0.27116184]\n",
            " [ 0.94473373 -0.54314555 -0.49951905]\n",
            " [ 0.04522698 -0.58383438 -0.2350021 ]\n",
            " [ 1.11628318 -0.08461685  0.45962099]\n",
            " [ 0.35788842 -0.06892503 -0.22985389]\n",
            " [ 1.29818388 -0.32778731 -0.34785435]\n",
            " [ 0.92172892 -0.18273779 -0.23107178]\n",
            " [ 0.71485333  0.14905594 -0.32180094]\n",
            " [ 0.90017437  0.32850447 -0.31620907]\n",
            " [ 1.33202444  0.24444088 -0.52170278]\n",
            " [ 1.55780216  0.26749545 -0.16492098]\n",
            " [ 0.81329065 -0.1633503   0.0354245 ]\n",
            " [-0.30558378 -0.36826219 -0.31849158]\n",
            " [-0.06812649 -0.70517213 -0.24421381]\n",
            " [-0.18962247 -0.68028676 -0.30642056]\n",
            " [ 0.13642871 -0.31403244 -0.17724277]\n",
            " [ 1.38002644 -0.42095429  0.01616713]\n",
            " [ 0.58800644 -0.48428742  0.4444335 ]\n",
            " [ 0.80685831  0.19418231  0.38896306]\n",
            " [ 1.22069088  0.40761959 -0.23716701]\n",
            " [ 0.81509524 -0.37203706 -0.61472084]\n",
            " [ 0.24595768 -0.2685244   0.18836681]\n",
            " [ 0.16641322 -0.68192672 -0.06000923]\n",
            " [ 0.46480029 -0.67071154 -0.02430686]\n",
            " [ 0.8908152  -0.03446444 -0.00994693]\n",
            " [ 0.23054802 -0.40438585 -0.22941024]\n",
            " [-0.70453176 -1.01224823 -0.10569115]\n",
            " [ 0.35698149 -0.50491009  0.01661717]\n",
            " [ 0.33193448 -0.21265468  0.08320429]\n",
            " [ 0.37621565 -0.29321893  0.07799635]\n",
            " [ 0.64257601  0.01773819 -0.20539497]\n",
            " [-0.90646986 -0.75609337 -0.01259965]\n",
            " [ 0.29900084 -0.34889781  0.01058166]\n",
            " [ 2.53119273 -0.00984911  0.76016543]\n",
            " [ 1.41523588 -0.57491635  0.29632253]\n",
            " [ 2.61667602  0.34390315 -0.11078788]\n",
            " [ 1.97153105 -0.1797279   0.10842466]\n",
            " [ 2.35000592 -0.04026095  0.28538956]\n",
            " [ 3.39703874  0.55083667 -0.34843756]\n",
            " [ 0.52123224 -1.19275873  0.5456593 ]\n",
            " [ 2.93258707  0.3555     -0.42023994]\n",
            " [ 2.32122882 -0.2438315  -0.34830439]\n",
            " [ 2.91675097  0.78279195  0.42333542]\n",
            " [ 1.66177415  0.24222841  0.24244019]\n",
            " [ 1.80340195 -0.21563762 -0.03764817]\n",
            " [ 2.1655918   0.21627559  0.03332664]\n",
            " [ 1.34616358 -0.77681835  0.28190288]\n",
            " [ 1.58592822 -0.53964071  0.62902933]\n",
            " [ 1.90445637  0.11925069  0.47963982]\n",
            " [ 1.94968906  0.04194326  0.04418617]\n",
            " [ 3.48705536  1.17573933  0.13389487]\n",
            " [ 3.79564542  0.25732297 -0.51376776]\n",
            " [ 1.30079171 -0.76114964 -0.34499504]\n",
            " [ 2.42781791  0.37819601  0.21911932]\n",
            " [ 1.19900111 -0.60609153  0.51185551]\n",
            " [ 3.49992004  0.4606741  -0.57318224]\n",
            " [ 1.38876613 -0.20439933 -0.06452276]\n",
            " [ 2.2754305   0.33499061  0.28615009]\n",
            " [ 2.61409047  0.56090136 -0.20553452]\n",
            " [ 1.25850816 -0.17970479  0.0458477 ]\n",
            " [ 1.29113206 -0.11666865  0.23125646]\n",
            " [ 2.12360872 -0.20972948  0.15418002]\n",
            " [ 2.38800302  0.4646398  -0.44953019]\n",
            " [ 2.84167278  0.37526917 -0.49889808]\n",
            " [ 3.23067366  1.37416509 -0.11454821]\n",
            " [ 2.15943764 -0.21727758  0.20876317]\n",
            " [ 1.44416124 -0.14341341 -0.15323389]\n",
            " [ 1.78129481 -0.49990168 -0.17287519]\n",
            " [ 3.07649993  0.68808568 -0.33559229]\n",
            " [ 2.14424331  0.1400642   0.73487894]\n",
            " [ 1.90509815  0.04930053  0.16218024]\n",
            " [ 1.16932634 -0.16499026  0.28183584]\n",
            " [ 2.10761114  0.37228787  0.02729113]\n",
            " [ 2.31415471  0.18365128  0.32269375]\n",
            " [ 1.9222678   0.40920347  0.1135866 ]\n",
            " [ 1.41523588 -0.57491635  0.29632253]\n",
            " [ 2.56301338  0.2778626   0.29256952]\n",
            " [ 2.41874618  0.3047982   0.50448266]\n",
            " [ 1.94410979  0.1875323   0.17782509]\n",
            " [ 1.52716661 -0.37531698 -0.12189817]\n",
            " [ 1.76434572  0.07885885  0.13048163]\n",
            " [ 1.90094161  0.11662796  0.72325156]\n",
            " [ 1.39018886 -0.28266094  0.36290965]]\n"
          ]
        }
      ]
    },
    {
      "cell_type": "code",
      "source": [
        "#empty model of 3 clusters \n",
        "\n",
        "kmeans=KMeans(n_clusters=3)\n",
        "\n",
        "kmeans.fit(reduced_data3)#from the data above\n",
        "\n",
        "print(kmeans.cluster_centers_)\n",
        "print(kmeans.labels_)\n",
        "\n",
        "\n",
        "\n"
      ],
      "metadata": {
        "colab": {
          "base_uri": "https://localhost:8080/"
        },
        "id": "_hdha-Ap9EWz",
        "outputId": "40dba99d-3835-4dd5-ae01-a7f3fcb6583a"
      },
      "execution_count": null,
      "outputs": [
        {
          "output_type": "stream",
          "name": "stdout",
          "text": [
            "[[ 0.67566229 -0.31520477 -0.04217302]\n",
            " [-2.64241546  0.19088505  0.01358128]\n",
            " [ 2.37446608  0.26311694  0.05093851]]\n",
            "[1 1 1 1 1 1 1 1 1 1 1 1 1 1 1 1 1 1 1 1 1 1 1 1 1 1 1 1 1 1 1 1 1 1 1 1 1\n",
            " 1 1 1 1 1 1 1 1 1 1 1 1 1 0 0 2 0 0 0 0 0 0 0 0 0 0 0 0 0 0 0 0 0 0 0 0 0\n",
            " 0 0 0 2 0 0 0 0 0 0 0 0 0 0 0 0 0 0 0 0 0 0 0 0 0 0 2 0 2 2 2 2 0 2 2 2 2\n",
            " 2 2 0 0 2 2 2 2 0 2 0 2 0 2 2 0 0 2 2 2 2 2 0 2 2 2 2 0 2 2 2 0 2 2 2 0 2\n",
            " 2 0]\n"
          ]
        }
      ]
    },
    {
      "cell_type": "code",
      "source": [
        "plt.scatter(reduced_data3[:,0],reduced_data3[:,1],c=kmeans.labels_#or use y for the orginal data )\n",
        "plt.title(\"Dimension 0 vs Dimension 1 \")"
      ],
      "metadata": {
        "colab": {
          "base_uri": "https://localhost:8080/",
          "height": 296
        },
        "id": "efUcwa_IAfJB",
        "outputId": "ec3b0930-a94b-455b-cc0e-3e3ea7a9ee69"
      },
      "execution_count": null,
      "outputs": [
        {
          "output_type": "execute_result",
          "data": {
            "text/plain": [
              "Text(0.5, 1.0, 'Dimension 0 vs Dimension 1 ')"
            ]
          },
          "metadata": {},
          "execution_count": 78
        },
        {
          "output_type": "display_data",
          "data": {
            "text/plain": [
              "<Figure size 432x288 with 1 Axes>"
            ],
            "image/png": "[encoded data removed]"
          },
          "metadata": {
            "needs_background": "light"
          }
        }
      ]
    },
    {
      "cell_type": "code",
      "source": [
        "My_means3=KMeans(n_clusters=3) #created it with out the PCA using the orginal data scatter plot on bottom \n",
        "\n",
        "My_means3.fit_transform(x)\n",
        "print(My_means3.cluster_centers_)\n",
        "print(My_means3.labels_)\n",
        "\n",
        "\n",
        "\n"
      ],
      "metadata": {
        "colab": {
          "base_uri": "https://localhost:8080/"
        },
        "id": "kFzUnnfQCxQH",
        "outputId": "330f9b23-e381-47f5-aa2e-20b93ddd697f"
      },
      "execution_count": null,
      "outputs": [
        {
          "output_type": "stream",
          "name": "stdout",
          "text": [
            "[[5.9016129  2.7483871  4.39354839 1.43387097]\n",
            " [5.006      3.428      1.462      0.246     ]\n",
            " [6.85       3.07368421 5.74210526 2.07105263]]\n",
            "[1 1 1 1 1 1 1 1 1 1 1 1 1 1 1 1 1 1 1 1 1 1 1 1 1 1 1 1 1 1 1 1 1 1 1 1 1\n",
            " 1 1 1 1 1 1 1 1 1 1 1 1 1 0 0 2 0 0 0 0 0 0 0 0 0 0 0 0 0 0 0 0 0 0 0 0 0\n",
            " 0 0 0 2 0 0 0 0 0 0 0 0 0 0 0 0 0 0 0 0 0 0 0 0 0 0 2 0 2 2 2 2 0 2 2 2 2\n",
            " 2 2 0 0 2 2 2 2 0 2 0 2 0 2 2 0 0 2 2 2 2 2 0 2 2 2 2 0 2 2 2 0 2 2 2 0 2\n",
            " 2 0]\n"
          ]
        }
      ]
    },
    {
      "cell_type": "code",
      "source": [
        "plt.scatter(x[:,0],x[:,1],c=My_means3.labels_)\n",
        "plt.title(\"Dimension Sepal Length vs Sepal Width\")"
      ],
      "metadata": {
        "colab": {
          "base_uri": "https://localhost:8080/",
          "height": 296
        },
        "id": "JhibVUq-FrV4",
        "outputId": "230d7495-b3c9-47e6-8e18-acceacd2738e"
      },
      "execution_count": null,
      "outputs": [
        {
          "output_type": "execute_result",
          "data": {
            "text/plain": [
              "Text(0.5, 1.0, 'Dimension Sepal Length vs Sepal Width')"
            ]
          },
          "metadata": {},
          "execution_count": 80
        },
        {
          "output_type": "display_data",
          "data": {
            "text/plain": [
              "<Figure size 432x288 with 1 Axes>"
            ],
            "image/png": "[encoded data removed]"
          },
          "metadata": {
            "needs_background": "light"
          }
        }
      ]
    }
  ]
}