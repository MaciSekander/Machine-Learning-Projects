{
 "cells": [
  {
   "cell_type": "markdown",
   "id": "95355020",
   "metadata": {},
   "source": [
    "# Retruns is the Sp500"
   ]
  },
  {
   "cell_type": "markdown",
   "id": "184c6d43",
   "metadata": {
    "collapsed": true
   },
   "source": [
    "pip install yfinance"
   ]
  },
  {
   "cell_type": "code",
   "execution_count": 2,
   "id": "8072165f",
   "metadata": {},
   "outputs": [],
   "source": [
    "# Importing necessary libraries for data manipulation and analysis\n",
    "import yfinance as yf \n",
    "import numpy as np"
   ]
  },
  {
   "cell_type": "code",
   "execution_count": 3,
   "id": "ee7a84a9",
   "metadata": {},
   "outputs": [
    {
     "name": "stderr",
     "output_type": "stream",
     "text": [
      "[*********************100%%**********************]  1 of 1 completed\n"
     ]
    },
    {
     "data": {
      "text/html": [
       "<div>\n",
       "<style scoped>\n",
       "    .dataframe tbody tr th:only-of-type {\n",
       "        vertical-align: middle;\n",
       "    }\n",
       "\n",
       "    .dataframe tbody tr th {\n",
       "        vertical-align: top;\n",
       "    }\n",
       "\n",
       "    .dataframe thead th {\n",
       "        text-align: right;\n",
       "    }\n",
       "</style>\n",
       "<table border=\"1\" class=\"dataframe\">\n",
       "  <thead>\n",
       "    <tr style=\"text-align: right;\">\n",
       "      <th></th>\n",
       "      <th>Open</th>\n",
       "      <th>High</th>\n",
       "      <th>Low</th>\n",
       "      <th>Close</th>\n",
       "      <th>Adj Close</th>\n",
       "      <th>Volume</th>\n",
       "    </tr>\n",
       "    <tr>\n",
       "      <th>Date</th>\n",
       "      <th></th>\n",
       "      <th></th>\n",
       "      <th></th>\n",
       "      <th></th>\n",
       "      <th></th>\n",
       "      <th></th>\n",
       "    </tr>\n",
       "  </thead>\n",
       "  <tbody>\n",
       "    <tr>\n",
       "      <th>2010-06-29</th>\n",
       "      <td>1.266667</td>\n",
       "      <td>1.666667</td>\n",
       "      <td>1.169333</td>\n",
       "      <td>1.592667</td>\n",
       "      <td>1.592667</td>\n",
       "      <td>281494500</td>\n",
       "    </tr>\n",
       "    <tr>\n",
       "      <th>2010-06-30</th>\n",
       "      <td>1.719333</td>\n",
       "      <td>2.028000</td>\n",
       "      <td>1.553333</td>\n",
       "      <td>1.588667</td>\n",
       "      <td>1.588667</td>\n",
       "      <td>257806500</td>\n",
       "    </tr>\n",
       "    <tr>\n",
       "      <th>2010-07-01</th>\n",
       "      <td>1.666667</td>\n",
       "      <td>1.728000</td>\n",
       "      <td>1.351333</td>\n",
       "      <td>1.464000</td>\n",
       "      <td>1.464000</td>\n",
       "      <td>123282000</td>\n",
       "    </tr>\n",
       "    <tr>\n",
       "      <th>2010-07-02</th>\n",
       "      <td>1.533333</td>\n",
       "      <td>1.540000</td>\n",
       "      <td>1.247333</td>\n",
       "      <td>1.280000</td>\n",
       "      <td>1.280000</td>\n",
       "      <td>77097000</td>\n",
       "    </tr>\n",
       "    <tr>\n",
       "      <th>2010-07-06</th>\n",
       "      <td>1.333333</td>\n",
       "      <td>1.333333</td>\n",
       "      <td>1.055333</td>\n",
       "      <td>1.074000</td>\n",
       "      <td>1.074000</td>\n",
       "      <td>103003500</td>\n",
       "    </tr>\n",
       "    <tr>\n",
       "      <th>...</th>\n",
       "      <td>...</td>\n",
       "      <td>...</td>\n",
       "      <td>...</td>\n",
       "      <td>...</td>\n",
       "      <td>...</td>\n",
       "      <td>...</td>\n",
       "    </tr>\n",
       "    <tr>\n",
       "      <th>2024-04-02</th>\n",
       "      <td>164.750000</td>\n",
       "      <td>167.690002</td>\n",
       "      <td>163.429993</td>\n",
       "      <td>166.630005</td>\n",
       "      <td>166.630005</td>\n",
       "      <td>116650600</td>\n",
       "    </tr>\n",
       "    <tr>\n",
       "      <th>2024-04-03</th>\n",
       "      <td>164.020004</td>\n",
       "      <td>168.820007</td>\n",
       "      <td>163.279999</td>\n",
       "      <td>168.380005</td>\n",
       "      <td>168.380005</td>\n",
       "      <td>82950100</td>\n",
       "    </tr>\n",
       "    <tr>\n",
       "      <th>2024-04-04</th>\n",
       "      <td>170.070007</td>\n",
       "      <td>177.190002</td>\n",
       "      <td>168.009995</td>\n",
       "      <td>171.110001</td>\n",
       "      <td>171.110001</td>\n",
       "      <td>123162000</td>\n",
       "    </tr>\n",
       "    <tr>\n",
       "      <th>2024-04-05</th>\n",
       "      <td>169.080002</td>\n",
       "      <td>170.860001</td>\n",
       "      <td>160.509995</td>\n",
       "      <td>164.899994</td>\n",
       "      <td>164.899994</td>\n",
       "      <td>141250700</td>\n",
       "    </tr>\n",
       "    <tr>\n",
       "      <th>2024-04-08</th>\n",
       "      <td>169.289993</td>\n",
       "      <td>174.500000</td>\n",
       "      <td>167.789993</td>\n",
       "      <td>172.979996</td>\n",
       "      <td>172.979996</td>\n",
       "      <td>102638756</td>\n",
       "    </tr>\n",
       "  </tbody>\n",
       "</table>\n",
       "<p>3467 rows × 6 columns</p>\n",
       "</div>"
      ],
      "text/plain": [
       "                  Open        High         Low       Close   Adj Close  \\\n",
       "Date                                                                     \n",
       "2010-06-29    1.266667    1.666667    1.169333    1.592667    1.592667   \n",
       "2010-06-30    1.719333    2.028000    1.553333    1.588667    1.588667   \n",
       "2010-07-01    1.666667    1.728000    1.351333    1.464000    1.464000   \n",
       "2010-07-02    1.533333    1.540000    1.247333    1.280000    1.280000   \n",
       "2010-07-06    1.333333    1.333333    1.055333    1.074000    1.074000   \n",
       "...                ...         ...         ...         ...         ...   \n",
       "2024-04-02  164.750000  167.690002  163.429993  166.630005  166.630005   \n",
       "2024-04-03  164.020004  168.820007  163.279999  168.380005  168.380005   \n",
       "2024-04-04  170.070007  177.190002  168.009995  171.110001  171.110001   \n",
       "2024-04-05  169.080002  170.860001  160.509995  164.899994  164.899994   \n",
       "2024-04-08  169.289993  174.500000  167.789993  172.979996  172.979996   \n",
       "\n",
       "               Volume  \n",
       "Date                   \n",
       "2010-06-29  281494500  \n",
       "2010-06-30  257806500  \n",
       "2010-07-01  123282000  \n",
       "2010-07-02   77097000  \n",
       "2010-07-06  103003500  \n",
       "...               ...  \n",
       "2024-04-02  116650600  \n",
       "2024-04-03   82950100  \n",
       "2024-04-04  123162000  \n",
       "2024-04-05  141250700  \n",
       "2024-04-08  102638756  \n",
       "\n",
       "[3467 rows x 6 columns]"
      ]
     },
     "execution_count": 3,
     "metadata": {},
     "output_type": "execute_result"
    }
   ],
   "source": [
    "# Loading the historical stock price data from a file\n",
    "df = yf.download(\"TSLA\",start=\"2010-01-01\") #we can also change the stock and the dates for ex \"APPL\",start=\"2018-01-01\"\n",
    "df"
   ]
  },
  {
   "cell_type": "code",
   "execution_count": 4,
   "id": "1ffc7328",
   "metadata": {},
   "outputs": [],
   "source": [
    "# Data preprocessing and analysis\n",
    "df[\"returns\"]= np.log(df.Close.pct_change()+1) #the returns portion is creating a new column\n",
    "#then we arew getting the logarithm for the Close column and the percent change for Close"
   ]
  },
  {
   "cell_type": "code",
   "execution_count": 5,
   "id": "07ce5e0d",
   "metadata": {},
   "outputs": [],
   "source": [
    "# Data preprocessing and analysis\n",
    "def lagit(df,lags):  #lags prior days we want to calculate \n",
    "    names = []\n",
    "    for i in range(1,lags+1):\n",
    "        df[\"Lag_\"+str(i)] = df[\"returns\"].shift(i) #creating a new columns Lag_ as a column\n",
    "        names.append(\"Lag_\"+str(i))\n",
    "    return names\n",
    "    "
   ]
  },
  {
   "cell_type": "code",
   "execution_count": 6,
   "id": "633b8f4c",
   "metadata": {},
   "outputs": [
    {
     "data": {
      "text/plain": [
       "['Lag_1', 'Lag_2', 'Lag_3', 'Lag_4', 'Lag_5']"
      ]
     },
     "execution_count": 6,
     "metadata": {},
     "output_type": "execute_result"
    }
   ],
   "source": [
    "# Data preprocessing and analysis\n",
    "lagnames = lagit(df,5)#the days we are lagging \n",
    "lagnames"
   ]
  },
  {
   "cell_type": "code",
   "execution_count": 7,
   "id": "bf3b04b7",
   "metadata": {},
   "outputs": [
    {
     "data": {
      "text/html": [
       "<div>\n",
       "<style scoped>\n",
       "    .dataframe tbody tr th:only-of-type {\n",
       "        vertical-align: middle;\n",
       "    }\n",
       "\n",
       "    .dataframe tbody tr th {\n",
       "        vertical-align: top;\n",
       "    }\n",
       "\n",
       "    .dataframe thead th {\n",
       "        text-align: right;\n",
       "    }\n",
       "</style>\n",
       "<table border=\"1\" class=\"dataframe\">\n",
       "  <thead>\n",
       "    <tr style=\"text-align: right;\">\n",
       "      <th></th>\n",
       "      <th>Open</th>\n",
       "      <th>High</th>\n",
       "      <th>Low</th>\n",
       "      <th>Close</th>\n",
       "      <th>Adj Close</th>\n",
       "      <th>Volume</th>\n",
       "      <th>returns</th>\n",
       "      <th>Lag_1</th>\n",
       "      <th>Lag_2</th>\n",
       "      <th>Lag_3</th>\n",
       "      <th>Lag_4</th>\n",
       "      <th>Lag_5</th>\n",
       "    </tr>\n",
       "    <tr>\n",
       "      <th>Date</th>\n",
       "      <th></th>\n",
       "      <th></th>\n",
       "      <th></th>\n",
       "      <th></th>\n",
       "      <th></th>\n",
       "      <th></th>\n",
       "      <th></th>\n",
       "      <th></th>\n",
       "      <th></th>\n",
       "      <th></th>\n",
       "      <th></th>\n",
       "      <th></th>\n",
       "    </tr>\n",
       "  </thead>\n",
       "  <tbody>\n",
       "    <tr>\n",
       "      <th>2010-06-29</th>\n",
       "      <td>1.266667</td>\n",
       "      <td>1.666667</td>\n",
       "      <td>1.169333</td>\n",
       "      <td>1.592667</td>\n",
       "      <td>1.592667</td>\n",
       "      <td>281494500</td>\n",
       "      <td>NaN</td>\n",
       "      <td>NaN</td>\n",
       "      <td>NaN</td>\n",
       "      <td>NaN</td>\n",
       "      <td>NaN</td>\n",
       "      <td>NaN</td>\n",
       "    </tr>\n",
       "    <tr>\n",
       "      <th>2010-06-30</th>\n",
       "      <td>1.719333</td>\n",
       "      <td>2.028000</td>\n",
       "      <td>1.553333</td>\n",
       "      <td>1.588667</td>\n",
       "      <td>1.588667</td>\n",
       "      <td>257806500</td>\n",
       "      <td>-0.002515</td>\n",
       "      <td>NaN</td>\n",
       "      <td>NaN</td>\n",
       "      <td>NaN</td>\n",
       "      <td>NaN</td>\n",
       "      <td>NaN</td>\n",
       "    </tr>\n",
       "    <tr>\n",
       "      <th>2010-07-01</th>\n",
       "      <td>1.666667</td>\n",
       "      <td>1.728000</td>\n",
       "      <td>1.351333</td>\n",
       "      <td>1.464000</td>\n",
       "      <td>1.464000</td>\n",
       "      <td>123282000</td>\n",
       "      <td>-0.081723</td>\n",
       "      <td>-0.002515</td>\n",
       "      <td>NaN</td>\n",
       "      <td>NaN</td>\n",
       "      <td>NaN</td>\n",
       "      <td>NaN</td>\n",
       "    </tr>\n",
       "    <tr>\n",
       "      <th>2010-07-02</th>\n",
       "      <td>1.533333</td>\n",
       "      <td>1.540000</td>\n",
       "      <td>1.247333</td>\n",
       "      <td>1.280000</td>\n",
       "      <td>1.280000</td>\n",
       "      <td>77097000</td>\n",
       "      <td>-0.134312</td>\n",
       "      <td>-0.081723</td>\n",
       "      <td>-0.002515</td>\n",
       "      <td>NaN</td>\n",
       "      <td>NaN</td>\n",
       "      <td>NaN</td>\n",
       "    </tr>\n",
       "    <tr>\n",
       "      <th>2010-07-06</th>\n",
       "      <td>1.333333</td>\n",
       "      <td>1.333333</td>\n",
       "      <td>1.055333</td>\n",
       "      <td>1.074000</td>\n",
       "      <td>1.074000</td>\n",
       "      <td>103003500</td>\n",
       "      <td>-0.175470</td>\n",
       "      <td>-0.134312</td>\n",
       "      <td>-0.081723</td>\n",
       "      <td>-0.002515</td>\n",
       "      <td>NaN</td>\n",
       "      <td>NaN</td>\n",
       "    </tr>\n",
       "    <tr>\n",
       "      <th>...</th>\n",
       "      <td>...</td>\n",
       "      <td>...</td>\n",
       "      <td>...</td>\n",
       "      <td>...</td>\n",
       "      <td>...</td>\n",
       "      <td>...</td>\n",
       "      <td>...</td>\n",
       "      <td>...</td>\n",
       "      <td>...</td>\n",
       "      <td>...</td>\n",
       "      <td>...</td>\n",
       "      <td>...</td>\n",
       "    </tr>\n",
       "    <tr>\n",
       "      <th>2024-04-02</th>\n",
       "      <td>164.750000</td>\n",
       "      <td>167.690002</td>\n",
       "      <td>163.429993</td>\n",
       "      <td>166.630005</td>\n",
       "      <td>166.630005</td>\n",
       "      <td>116650600</td>\n",
       "      <td>-0.050267</td>\n",
       "      <td>-0.003248</td>\n",
       "      <td>-0.022722</td>\n",
       "      <td>0.012084</td>\n",
       "      <td>0.028777</td>\n",
       "      <td>0.010482</td>\n",
       "    </tr>\n",
       "    <tr>\n",
       "      <th>2024-04-03</th>\n",
       "      <td>164.020004</td>\n",
       "      <td>168.820007</td>\n",
       "      <td>163.279999</td>\n",
       "      <td>168.380005</td>\n",
       "      <td>168.380005</td>\n",
       "      <td>82950100</td>\n",
       "      <td>0.010448</td>\n",
       "      <td>-0.050267</td>\n",
       "      <td>-0.003248</td>\n",
       "      <td>-0.022722</td>\n",
       "      <td>0.012084</td>\n",
       "      <td>0.028777</td>\n",
       "    </tr>\n",
       "    <tr>\n",
       "      <th>2024-04-04</th>\n",
       "      <td>170.070007</td>\n",
       "      <td>177.190002</td>\n",
       "      <td>168.009995</td>\n",
       "      <td>171.110001</td>\n",
       "      <td>171.110001</td>\n",
       "      <td>123162000</td>\n",
       "      <td>0.016083</td>\n",
       "      <td>0.010448</td>\n",
       "      <td>-0.050267</td>\n",
       "      <td>-0.003248</td>\n",
       "      <td>-0.022722</td>\n",
       "      <td>0.012084</td>\n",
       "    </tr>\n",
       "    <tr>\n",
       "      <th>2024-04-05</th>\n",
       "      <td>169.080002</td>\n",
       "      <td>170.860001</td>\n",
       "      <td>160.509995</td>\n",
       "      <td>164.899994</td>\n",
       "      <td>164.899994</td>\n",
       "      <td>141250700</td>\n",
       "      <td>-0.036967</td>\n",
       "      <td>0.016083</td>\n",
       "      <td>0.010448</td>\n",
       "      <td>-0.050267</td>\n",
       "      <td>-0.003248</td>\n",
       "      <td>-0.022722</td>\n",
       "    </tr>\n",
       "    <tr>\n",
       "      <th>2024-04-08</th>\n",
       "      <td>169.289993</td>\n",
       "      <td>174.500000</td>\n",
       "      <td>167.789993</td>\n",
       "      <td>172.979996</td>\n",
       "      <td>172.979996</td>\n",
       "      <td>102638756</td>\n",
       "      <td>0.047837</td>\n",
       "      <td>-0.036967</td>\n",
       "      <td>0.016083</td>\n",
       "      <td>0.010448</td>\n",
       "      <td>-0.050267</td>\n",
       "      <td>-0.003248</td>\n",
       "    </tr>\n",
       "  </tbody>\n",
       "</table>\n",
       "<p>3467 rows × 12 columns</p>\n",
       "</div>"
      ],
      "text/plain": [
       "                  Open        High         Low       Close   Adj Close  \\\n",
       "Date                                                                     \n",
       "2010-06-29    1.266667    1.666667    1.169333    1.592667    1.592667   \n",
       "2010-06-30    1.719333    2.028000    1.553333    1.588667    1.588667   \n",
       "2010-07-01    1.666667    1.728000    1.351333    1.464000    1.464000   \n",
       "2010-07-02    1.533333    1.540000    1.247333    1.280000    1.280000   \n",
       "2010-07-06    1.333333    1.333333    1.055333    1.074000    1.074000   \n",
       "...                ...         ...         ...         ...         ...   \n",
       "2024-04-02  164.750000  167.690002  163.429993  166.630005  166.630005   \n",
       "2024-04-03  164.020004  168.820007  163.279999  168.380005  168.380005   \n",
       "2024-04-04  170.070007  177.190002  168.009995  171.110001  171.110001   \n",
       "2024-04-05  169.080002  170.860001  160.509995  164.899994  164.899994   \n",
       "2024-04-08  169.289993  174.500000  167.789993  172.979996  172.979996   \n",
       "\n",
       "               Volume   returns     Lag_1     Lag_2     Lag_3     Lag_4  \\\n",
       "Date                                                                      \n",
       "2010-06-29  281494500       NaN       NaN       NaN       NaN       NaN   \n",
       "2010-06-30  257806500 -0.002515       NaN       NaN       NaN       NaN   \n",
       "2010-07-01  123282000 -0.081723 -0.002515       NaN       NaN       NaN   \n",
       "2010-07-02   77097000 -0.134312 -0.081723 -0.002515       NaN       NaN   \n",
       "2010-07-06  103003500 -0.175470 -0.134312 -0.081723 -0.002515       NaN   \n",
       "...               ...       ...       ...       ...       ...       ...   \n",
       "2024-04-02  116650600 -0.050267 -0.003248 -0.022722  0.012084  0.028777   \n",
       "2024-04-03   82950100  0.010448 -0.050267 -0.003248 -0.022722  0.012084   \n",
       "2024-04-04  123162000  0.016083  0.010448 -0.050267 -0.003248 -0.022722   \n",
       "2024-04-05  141250700 -0.036967  0.016083  0.010448 -0.050267 -0.003248   \n",
       "2024-04-08  102638756  0.047837 -0.036967  0.016083  0.010448 -0.050267   \n",
       "\n",
       "               Lag_5  \n",
       "Date                  \n",
       "2010-06-29       NaN  \n",
       "2010-06-30       NaN  \n",
       "2010-07-01       NaN  \n",
       "2010-07-02       NaN  \n",
       "2010-07-06       NaN  \n",
       "...              ...  \n",
       "2024-04-02  0.010482  \n",
       "2024-04-03  0.028777  \n",
       "2024-04-04  0.012084  \n",
       "2024-04-05 -0.022722  \n",
       "2024-04-08 -0.003248  \n",
       "\n",
       "[3467 rows x 12 columns]"
      ]
     },
     "execution_count": 7,
     "metadata": {},
     "output_type": "execute_result"
    }
   ],
   "source": [
    "# Data preprocessing and analysis\n",
    "df"
   ]
  },
  {
   "cell_type": "code",
   "execution_count": 8,
   "id": "7fca62d2",
   "metadata": {},
   "outputs": [],
   "source": [
    "# Data preprocessing and analysis\n",
    "df.dropna(inplace = True)"
   ]
  },
  {
   "cell_type": "code",
   "execution_count": 9,
   "id": "d32efdfd",
   "metadata": {
    "scrolled": true
   },
   "outputs": [
    {
     "data": {
      "text/html": [
       "<style>#sk-container-id-1 {color: black;background-color: white;}#sk-container-id-1 pre{padding: 0;}#sk-container-id-1 div.sk-toggleable {background-color: white;}#sk-container-id-1 label.sk-toggleable__label {cursor: pointer;display: block;width: 100%;margin-bottom: 0;padding: 0.3em;box-sizing: border-box;text-align: center;}#sk-container-id-1 label.sk-toggleable__label-arrow:before {content: \"▸\";float: left;margin-right: 0.25em;color: #696969;}#sk-container-id-1 label.sk-toggleable__label-arrow:hover:before {color: black;}#sk-container-id-1 div.sk-estimator:hover label.sk-toggleable__label-arrow:before {color: black;}#sk-container-id-1 div.sk-toggleable__content {max-height: 0;max-width: 0;overflow: hidden;text-align: left;background-color: #f0f8ff;}#sk-container-id-1 div.sk-toggleable__content pre {margin: 0.2em;color: black;border-radius: 0.25em;background-color: #f0f8ff;}#sk-container-id-1 input.sk-toggleable__control:checked~div.sk-toggleable__content {max-height: 200px;max-width: 100%;overflow: auto;}#sk-container-id-1 input.sk-toggleable__control:checked~label.sk-toggleable__label-arrow:before {content: \"▾\";}#sk-container-id-1 div.sk-estimator input.sk-toggleable__control:checked~label.sk-toggleable__label {background-color: #d4ebff;}#sk-container-id-1 div.sk-label input.sk-toggleable__control:checked~label.sk-toggleable__label {background-color: #d4ebff;}#sk-container-id-1 input.sk-hidden--visually {border: 0;clip: rect(1px 1px 1px 1px);clip: rect(1px, 1px, 1px, 1px);height: 1px;margin: -1px;overflow: hidden;padding: 0;position: absolute;width: 1px;}#sk-container-id-1 div.sk-estimator {font-family: monospace;background-color: #f0f8ff;border: 1px dotted black;border-radius: 0.25em;box-sizing: border-box;margin-bottom: 0.5em;}#sk-container-id-1 div.sk-estimator:hover {background-color: #d4ebff;}#sk-container-id-1 div.sk-parallel-item::after {content: \"\";width: 100%;border-bottom: 1px solid gray;flex-grow: 1;}#sk-container-id-1 div.sk-label:hover label.sk-toggleable__label {background-color: #d4ebff;}#sk-container-id-1 div.sk-serial::before {content: \"\";position: absolute;border-left: 1px solid gray;box-sizing: border-box;top: 0;bottom: 0;left: 50%;z-index: 0;}#sk-container-id-1 div.sk-serial {display: flex;flex-direction: column;align-items: center;background-color: white;padding-right: 0.2em;padding-left: 0.2em;position: relative;}#sk-container-id-1 div.sk-item {position: relative;z-index: 1;}#sk-container-id-1 div.sk-parallel {display: flex;align-items: stretch;justify-content: center;background-color: white;position: relative;}#sk-container-id-1 div.sk-item::before, #sk-container-id-1 div.sk-parallel-item::before {content: \"\";position: absolute;border-left: 1px solid gray;box-sizing: border-box;top: 0;bottom: 0;left: 50%;z-index: -1;}#sk-container-id-1 div.sk-parallel-item {display: flex;flex-direction: column;z-index: 1;position: relative;background-color: white;}#sk-container-id-1 div.sk-parallel-item:first-child::after {align-self: flex-end;width: 50%;}#sk-container-id-1 div.sk-parallel-item:last-child::after {align-self: flex-start;width: 50%;}#sk-container-id-1 div.sk-parallel-item:only-child::after {width: 0;}#sk-container-id-1 div.sk-dashed-wrapped {border: 1px dashed gray;margin: 0 0.4em 0.5em 0.4em;box-sizing: border-box;padding-bottom: 0.4em;background-color: white;}#sk-container-id-1 div.sk-label label {font-family: monospace;font-weight: bold;display: inline-block;line-height: 1.2em;}#sk-container-id-1 div.sk-label-container {text-align: center;}#sk-container-id-1 div.sk-container {/* jupyter's `normalize.less` sets `[hidden] { display: none; }` but bootstrap.min.css set `[hidden] { display: none !important; }` so we also need the `!important` here to be able to override the default hidden behavior on the sphinx rendered scikit-learn.org. See: https://github.com/scikit-learn/scikit-learn/issues/21755 */display: inline-block !important;position: relative;}#sk-container-id-1 div.sk-text-repr-fallback {display: none;}</style><div id=\"sk-container-id-1\" class=\"sk-top-container\"><div class=\"sk-text-repr-fallback\"><pre>LinearRegression()</pre><b>In a Jupyter environment, please rerun this cell to show the HTML representation or trust the notebook. <br />On GitHub, the HTML representation is unable to render, please try loading this page with nbviewer.org.</b></div><div class=\"sk-container\" hidden><div class=\"sk-item\"><div class=\"sk-estimator sk-toggleable\"><input class=\"sk-toggleable__control sk-hidden--visually\" id=\"sk-estimator-id-1\" type=\"checkbox\" checked><label for=\"sk-estimator-id-1\" class=\"sk-toggleable__label sk-toggleable__label-arrow\">LinearRegression</label><div class=\"sk-toggleable__content\"><pre>LinearRegression()</pre></div></div></div></div></div>"
      ],
      "text/plain": [
       "LinearRegression()"
      ]
     },
     "execution_count": 9,
     "metadata": {},
     "output_type": "execute_result"
    }
   ],
   "source": [
    "# Importing necessary libraries for data manipulation and analysis\n",
    "from sklearn.linear_model import LinearRegression\n",
    "\n",
    "model = LinearRegression()\n",
    "model.fit(df[lagnames],df[\"returns\"]) #dependent variable returns, lagnames independent "
   ]
  },
  {
   "cell_type": "code",
   "execution_count": 10,
   "id": "70169489",
   "metadata": {},
   "outputs": [],
   "source": [
    "# Using the model to make predictions on unseen data\n",
    "df[\"prediction_LR\"] = model.predict(df[lagnames])#again creating a new columns for our predictions"
   ]
  },
  {
   "cell_type": "code",
   "execution_count": 11,
   "id": "21892c0a",
   "metadata": {},
   "outputs": [],
   "source": [
    "# Using the model to make predictions on unseen data\n",
    "df[\"Direction_LR\"] = [1 if i > 0 else -1 for i in df.prediction_LR]#creating a new column to buy or sell asset "
   ]
  },
  {
   "cell_type": "code",
   "execution_count": 12,
   "id": "6e8dda0c",
   "metadata": {},
   "outputs": [],
   "source": [
    "# Data preprocessing and analysis\n",
    "df[\"strat_LR\"] = df[\"Direction_LR\"]* df[\"returns\"]"
   ]
  },
  {
   "cell_type": "code",
   "execution_count": 13,
   "id": "bf9d849e",
   "metadata": {},
   "outputs": [
    {
     "data": {
      "text/plain": [
       "returns     164.221560\n",
       "strat_LR    130.561415\n",
       "dtype: float64"
      ]
     },
     "execution_count": 13,
     "metadata": {},
     "output_type": "execute_result"
    }
   ],
   "source": [
    "# Data preprocessing and analysis\n",
    "np.exp(df[[\"returns\",\"strat_LR\"]].sum())"
   ]
  },
  {
   "cell_type": "code",
   "execution_count": 14,
   "id": "642caf6a",
   "metadata": {},
   "outputs": [
    {
     "data": {
      "text/plain": [
       "<Axes: xlabel='Date'>"
      ]
     },
     "execution_count": 14,
     "metadata": {},
     "output_type": "execute_result"
    },
    {
     "data": {
      "image/png": "[encoded data removed]",
      "text/plain": [
       "<Figure size 640x480 with 1 Axes>"
      ]
     },
     "metadata": {},
     "output_type": "display_data"
    }
   ],
   "source": [
    "# Plotting the data to visualize trends and patterns\n",
    "np.exp(df[[\"returns\",\"strat_LR\"]].cumsum()).plot() #cumsum will give us a timeseries \n",
    "#this is case of overfitting becasue we have not split the data but will do in the next step"
   ]
  },
  {
   "cell_type": "markdown",
   "id": "309469a5",
   "metadata": {},
   "source": [
    "# Spliitng the Dataset this time "
   ]
  },
  {
   "cell_type": "code",
   "execution_count": 15,
   "id": "ff06f324",
   "metadata": {},
   "outputs": [],
   "source": [
    "# Importing necessary libraries for data manipulation and analysis\n",
    "from sklearn.model_selection import train_test_split\n",
    "train,test = train_test_split(df,shuffle = False,\n",
    "                             test_size =0.3,random_state = 0) \n",
    "#using shuffle so it does not shuffle the predicted to the previous data"
   ]
  },
  {
   "cell_type": "code",
   "execution_count": 16,
   "id": "01bc6d94",
   "metadata": {},
   "outputs": [],
   "source": [
    "# Data preprocessing and analysis\n",
    "model = LinearRegression()"
   ]
  },
  {
   "cell_type": "code",
   "execution_count": 17,
   "id": "bae88cd5",
   "metadata": {},
   "outputs": [
    {
     "data": {
      "text/html": [
       "<style>#sk-container-id-2 {color: black;background-color: white;}#sk-container-id-2 pre{padding: 0;}#sk-container-id-2 div.sk-toggleable {background-color: white;}#sk-container-id-2 label.sk-toggleable__label {cursor: pointer;display: block;width: 100%;margin-bottom: 0;padding: 0.3em;box-sizing: border-box;text-align: center;}#sk-container-id-2 label.sk-toggleable__label-arrow:before {content: \"▸\";float: left;margin-right: 0.25em;color: #696969;}#sk-container-id-2 label.sk-toggleable__label-arrow:hover:before {color: black;}#sk-container-id-2 div.sk-estimator:hover label.sk-toggleable__label-arrow:before {color: black;}#sk-container-id-2 div.sk-toggleable__content {max-height: 0;max-width: 0;overflow: hidden;text-align: left;background-color: #f0f8ff;}#sk-container-id-2 div.sk-toggleable__content pre {margin: 0.2em;color: black;border-radius: 0.25em;background-color: #f0f8ff;}#sk-container-id-2 input.sk-toggleable__control:checked~div.sk-toggleable__content {max-height: 200px;max-width: 100%;overflow: auto;}#sk-container-id-2 input.sk-toggleable__control:checked~label.sk-toggleable__label-arrow:before {content: \"▾\";}#sk-container-id-2 div.sk-estimator input.sk-toggleable__control:checked~label.sk-toggleable__label {background-color: #d4ebff;}#sk-container-id-2 div.sk-label input.sk-toggleable__control:checked~label.sk-toggleable__label {background-color: #d4ebff;}#sk-container-id-2 input.sk-hidden--visually {border: 0;clip: rect(1px 1px 1px 1px);clip: rect(1px, 1px, 1px, 1px);height: 1px;margin: -1px;overflow: hidden;padding: 0;position: absolute;width: 1px;}#sk-container-id-2 div.sk-estimator {font-family: monospace;background-color: #f0f8ff;border: 1px dotted black;border-radius: 0.25em;box-sizing: border-box;margin-bottom: 0.5em;}#sk-container-id-2 div.sk-estimator:hover {background-color: #d4ebff;}#sk-container-id-2 div.sk-parallel-item::after {content: \"\";width: 100%;border-bottom: 1px solid gray;flex-grow: 1;}#sk-container-id-2 div.sk-label:hover label.sk-toggleable__label {background-color: #d4ebff;}#sk-container-id-2 div.sk-serial::before {content: \"\";position: absolute;border-left: 1px solid gray;box-sizing: border-box;top: 0;bottom: 0;left: 50%;z-index: 0;}#sk-container-id-2 div.sk-serial {display: flex;flex-direction: column;align-items: center;background-color: white;padding-right: 0.2em;padding-left: 0.2em;position: relative;}#sk-container-id-2 div.sk-item {position: relative;z-index: 1;}#sk-container-id-2 div.sk-parallel {display: flex;align-items: stretch;justify-content: center;background-color: white;position: relative;}#sk-container-id-2 div.sk-item::before, #sk-container-id-2 div.sk-parallel-item::before {content: \"\";position: absolute;border-left: 1px solid gray;box-sizing: border-box;top: 0;bottom: 0;left: 50%;z-index: -1;}#sk-container-id-2 div.sk-parallel-item {display: flex;flex-direction: column;z-index: 1;position: relative;background-color: white;}#sk-container-id-2 div.sk-parallel-item:first-child::after {align-self: flex-end;width: 50%;}#sk-container-id-2 div.sk-parallel-item:last-child::after {align-self: flex-start;width: 50%;}#sk-container-id-2 div.sk-parallel-item:only-child::after {width: 0;}#sk-container-id-2 div.sk-dashed-wrapped {border: 1px dashed gray;margin: 0 0.4em 0.5em 0.4em;box-sizing: border-box;padding-bottom: 0.4em;background-color: white;}#sk-container-id-2 div.sk-label label {font-family: monospace;font-weight: bold;display: inline-block;line-height: 1.2em;}#sk-container-id-2 div.sk-label-container {text-align: center;}#sk-container-id-2 div.sk-container {/* jupyter's `normalize.less` sets `[hidden] { display: none; }` but bootstrap.min.css set `[hidden] { display: none !important; }` so we also need the `!important` here to be able to override the default hidden behavior on the sphinx rendered scikit-learn.org. See: https://github.com/scikit-learn/scikit-learn/issues/21755 */display: inline-block !important;position: relative;}#sk-container-id-2 div.sk-text-repr-fallback {display: none;}</style><div id=\"sk-container-id-2\" class=\"sk-top-container\"><div class=\"sk-text-repr-fallback\"><pre>LinearRegression()</pre><b>In a Jupyter environment, please rerun this cell to show the HTML representation or trust the notebook. <br />On GitHub, the HTML representation is unable to render, please try loading this page with nbviewer.org.</b></div><div class=\"sk-container\" hidden><div class=\"sk-item\"><div class=\"sk-estimator sk-toggleable\"><input class=\"sk-toggleable__control sk-hidden--visually\" id=\"sk-estimator-id-2\" type=\"checkbox\" checked><label for=\"sk-estimator-id-2\" class=\"sk-toggleable__label sk-toggleable__label-arrow\">LinearRegression</label><div class=\"sk-toggleable__content\"><pre>LinearRegression()</pre></div></div></div></div></div>"
      ],
      "text/plain": [
       "LinearRegression()"
      ]
     },
     "execution_count": 17,
     "metadata": {},
     "output_type": "execute_result"
    }
   ],
   "source": [
    "# Building and training the machine learning model\n",
    "model.fit(train[lagnames],train[\"returns\"])#lagnames the features and dependent returns"
   ]
  },
  {
   "cell_type": "code",
   "execution_count": 18,
   "id": "02a9b917",
   "metadata": {},
   "outputs": [],
   "source": [
    "# Using the model to make predictions on unseen data\n",
    "test[\"prediction_LR\"] = model.predict(test[lagnames])"
   ]
  },
  {
   "cell_type": "code",
   "execution_count": 19,
   "id": "10188237",
   "metadata": {},
   "outputs": [],
   "source": [
    "# Using the model to make predictions on unseen data\n",
    "test[\"Direction_LR\"]= [1 if i>0 else -1 for i in test.prediction_LR]"
   ]
  },
  {
   "cell_type": "code",
   "execution_count": 20,
   "id": "8ec70abd",
   "metadata": {},
   "outputs": [],
   "source": [
    "# Data preprocessing and analysis\n",
    "test[\"strat_LR\"] = test[\"Direction_LR\"]* test[\"returns\"]"
   ]
  },
  {
   "cell_type": "code",
   "execution_count": 21,
   "id": "331b817f",
   "metadata": {},
   "outputs": [
    {
     "data": {
      "text/plain": [
       "returns     2.884891\n",
       "strat_LR    0.574892\n",
       "dtype: float64"
      ]
     },
     "execution_count": 21,
     "metadata": {},
     "output_type": "execute_result"
    }
   ],
   "source": [
    "# Data preprocessing and analysis\n",
    "np.exp(test[[\"returns\",\"strat_LR\"]].sum())#exp is exponential because we are using logs"
   ]
  },
  {
   "cell_type": "code",
   "execution_count": 22,
   "id": "c05920b9",
   "metadata": {},
   "outputs": [
    {
     "data": {
      "text/plain": [
       "Direction_LR\n",
       "False    903\n",
       "True     136\n",
       "Name: count, dtype: int64"
      ]
     },
     "execution_count": 22,
     "metadata": {},
     "output_type": "execute_result"
    }
   ],
   "source": [
    "# Data preprocessing and analysis\n",
    "(test[\"Direction_LR\"].diff()!=0).value_counts() #how many trades to make to get the performance strat_LR"
   ]
  },
  {
   "cell_type": "code",
   "execution_count": 23,
   "id": "9789188e",
   "metadata": {},
   "outputs": [
    {
     "data": {
      "text/plain": [
       "<Axes: xlabel='Date'>"
      ]
     },
     "execution_count": 23,
     "metadata": {},
     "output_type": "execute_result"
    },
    {
     "data": {
      "image/png": "[encoded data removed]",
      "text/plain": [
       "<Figure size 640x480 with 1 Axes>"
      ]
     },
     "metadata": {},
     "output_type": "display_data"
    }
   ],
   "source": [
    "# Plotting the data to visualize trends and patterns\n",
    "np.exp(test[[\"returns\",\"strat_LR\"]].cumsum()).plot()"
   ]
  }
 ],
 "metadata": {
  "kernelspec": {
   "display_name": "Python 3 (ipykernel)",
   "language": "python",
   "name": "python3"
  },
  "language_info": {
   "codemirror_mode": {
    "name": "ipython",
    "version": 3
   },
   "file_extension": ".py",
   "mimetype": "text/x-python",
   "name": "python",
   "nbconvert_exporter": "python",
   "pygments_lexer": "ipython3",
   "version": "3.11.7"
  }
 },
 "nbformat": 4,
 "nbformat_minor": 5
}
