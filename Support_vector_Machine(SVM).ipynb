{
  "nbformat": 4,
  "nbformat_minor": 0,
  "metadata": {
    "colab": {
      "provenance": []
    },
    "kernelspec": {
      "name": "python3",
      "display_name": "Python 3"
    },
    "language_info": {
      "name": "python"
    }
  },
  "cells": [
    {
      "cell_type": "code",
      "execution_count": null,
      "metadata": {
        "colab": {
          "base_uri": "https://localhost:8080/"
        },
        "id": "JQw_pxqy7RZs",
        "outputId": "d476c409-e721-45cc-f2a9-9c4a0be80e70"
      },
      "outputs": [
        {
          "output_type": "execute_result",
          "data": {
            "text/plain": [
              "array([1])"
            ]
          },
          "metadata": {},
          "execution_count": 15
        }
      ],
      "source": [
        "from sklearn import svm\n",
        "\n",
        "#lables\n",
        "X=[\n",
        "   [-3,-1],\n",
        "   [0,-2],\n",
        "   [-2.5,2],\n",
        "   [-1,-1],\n",
        "   [3,.5],\n",
        "   [.5,3],\n",
        "   [-3,-3]\n",
        "\n",
        "]\n",
        "#target is a labled data (0,1) Binary classification\n",
        "y=[0,1,0,1,1,0,1]\n",
        "\n",
        "\n",
        "#fit\n",
        "clf=svm.SVC(kernel=\"linear\").fit(X,y)\n",
        "\n",
        "#predict\n",
        "\n",
        "clf.predict([[-2,-4]])\n"
      ]
    },
    {
      "cell_type": "code",
      "source": [
        "from sklearn import svm\n",
        "from sklearn.model_selection import train_test_split\n",
        "from sklearn.metrics import accuracy_score\n",
        "#lables\n",
        "X=[\n",
        "   [-3,-1],\n",
        "   [0,-2],\n",
        "   [-2.5,2],\n",
        "   [-1,-1],\n",
        "   [3,.5],\n",
        "   [.5,3],\n",
        "   [-3,-3],\n",
        "   [3,1],\n",
        "   [0,2],\n",
        "   [2.5,-2],\n",
        "   [1,1],\n",
        "   [-3,-.5],\n",
        "   [-.5,-3],\n",
        "   [3,3]\n",
        "\n",
        "]\n",
        "\n",
        "#target is a labled data (0,1) Binary classification\n",
        "y=[0,1,0,1,1,0,1,1,0,1,0,0,1,0]\n",
        "\n",
        "#split the data into training and testing 80%,testing 20%\n",
        "\n",
        "X_train,X_test,y_train,y_test=train_test_split(X,y,test_size=0.2,random_state=100)\n",
        "\n",
        "print(X_train,'\\n',y_train)\n",
        "\n",
        "print(X_test,'\\n',y_test)\n",
        "\n",
        "\n",
        "#train the model\n",
        "\n",
        "SVMclf=svm.LinearSVC().fit(X_train,y_train)\n",
        "\n",
        "\n",
        "#test/predict tge model\n",
        "ypred=(SVMclf.predict(X_test))\n",
        "print('Predicted y=',ypred)\n",
        "print('Score=',accuracy_score(y_test,ypred))\n"
      ],
      "metadata": {
        "colab": {
          "base_uri": "https://localhost:8080/"
        },
        "id": "4Ei22CgVAxoN",
        "outputId": "02bdb5a9-5a32-429b-e90a-77d37d1b5347"
      },
      "execution_count": null,
      "outputs": [
        {
          "output_type": "stream",
          "name": "stdout",
          "text": [
            "[[0, -2], [2.5, -2], [3, 0.5], [-3, -3], [-2.5, 2], [-3, -1], [1, 1], [3, 1], [-1, -1], [3, 3], [0, 2]] \n",
            " [1, 1, 1, 1, 0, 0, 0, 1, 1, 0, 0]\n",
            "[[-3, -0.5], [-0.5, -3], [0.5, 3]] \n",
            " [0, 1, 0]\n",
            "Predicted y= [0 1 0]\n",
            "Score= 1.0\n"
          ]
        }
      ]
    },
    {
      "cell_type": "code",
      "source": [],
      "metadata": {
        "id": "9weuPx0K-Flc"
      },
      "execution_count": null,
      "outputs": []
    }
  ]
}