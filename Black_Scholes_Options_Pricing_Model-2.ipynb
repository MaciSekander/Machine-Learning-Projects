{
 "cells": [
  {
   "cell_type": "markdown",
   "id": "2ee2d451",
   "metadata": {},
   "source": [
    "## Black-Scholes in python\n",
    "## Black-Scholes only works for Pricing European Options"
   ]
  },
  {
   "cell_type": "code",
   "execution_count": 1,
   "id": "ffc8f0ff",
   "metadata": {},
   "outputs": [],
   "source": [
    "import numpy as np \n",
    "from scipy.stats import norm"
   ]
  },
  {
   "cell_type": "code",
   "execution_count": 13,
   "id": "da0bad1b",
   "metadata": {},
   "outputs": [],
   "source": [
    "#defining our variables \n",
    "r = 0.01 #this is our intrest rate\n",
    "S = 30 #our underlying asset price\n",
    "K = 40 #strike price of option\n",
    "T = 240/365 #this is the time of days\n",
    "sigma = 0.30 #sigma or implied volatlity listed along option price "
   ]
  },
  {
   "cell_type": "code",
   "execution_count": 14,
   "id": "f2816dbb",
   "metadata": {},
   "outputs": [
    {
     "name": "stdout",
     "output_type": "stream",
     "text": [
      "Option Price is:  0.51\n"
     ]
    }
   ],
   "source": [
    "#creating a function so we can use it again in the future\n",
    "#the type is for the option either call or put\n",
    "\n",
    "def BlackScholes(r,S,K,T,sigma,type='C'):\n",
    "    # Calculate d1 using the Black-Scholes model formula\n",
    "    d1 = (np.log(S / K) + (r + sigma**2 / 2) * T) / (sigma * np.sqrt(T))\n",
    "    # Explanation of d1:\n",
    "    # np.log(S / K) is the natural logarithm of the ratio of the stock price to the strike price.\n",
    "    # (r + sigma^2 / 2) * T adjusts for the risk-free rate and the volatility squared, scaled by the time to expiration.\n",
    "    # The result is then divided by the standard deviation of the stock's returns scaled by the square root of time, adjusting for time period volatility.\n",
    "\n",
    "    # Calculate d2, which is derived from d1\n",
    "    d2 = d1 - sigma * np.sqrt(T)\n",
    "    # Explanation of d2:\n",
    "    # d2 is calculated by subtracting the product of volatility and the square root of time from d1.\n",
    "    # This shift in the distribution accounts for the present value factor of exercising the option at expiration.\n",
    "\n",
    "    try:\n",
    "        # Calculate the price of the call option using the Black-Scholes formula\n",
    "        if type == 'C':\n",
    "            price = S * norm.cdf(d1, 0, 1) - K * np.exp(-r * T) * norm.cdf(d2, 0, 1)\n",
    "            # Explanation for call option pricing:\n",
    "            # S * norm.cdf(d1, 0, 1) calculates the current stock price multiplied by the probability of S being above the strike price at expiration.\n",
    "            # K * np.exp(-r * T) * norm.cdf(d2, 0, 1) calculates the present value of the strike price multiplied by the probability of the stock price being above the strike price at expiration.\n",
    "        # Calculate the price of the put option using the Black-Scholes formula\n",
    "        elif type == 'P':\n",
    "            price = K * np.exp(-r * T) * norm.cdf(-d2, 0, 1) - S * norm.cdf(-d1, 0, 1)\n",
    "            # Explanation for put option pricing:\n",
    "            # K * np.exp(-r * T) * norm.cdf(-d2, 0, 1) calculates the present value of the strike price multiplied by the probability of the stock price being below the strike price at expiration.\n",
    "            # S * norm.cdf(-d1, 0, 1) calculates the current stock price multiplied by the probability of the stock price being below the strike price at expiration.\n",
    "        return price\n",
    "    except:\n",
    "        # Handle any exceptions that may occur during calculation\n",
    "        print('Confirm all option parameters above')\n",
    "print(\"Option Price is: \", round(BlackScholes(r,S,K,T,sigma,type='C'),2))"
   ]
  },
  {
   "cell_type": "code",
   "execution_count": null,
   "id": "99b29fb9",
   "metadata": {},
   "outputs": [],
   "source": []
  }
 ],
 "metadata": {
  "kernelspec": {
   "display_name": "Python 3 (ipykernel)",
   "language": "python",
   "name": "python3"
  },
  "language_info": {
   "codemirror_mode": {
    "name": "ipython",
    "version": 3
   },
   "file_extension": ".py",
   "mimetype": "text/x-python",
   "name": "python",
   "nbconvert_exporter": "python",
   "pygments_lexer": "ipython3",
   "version": "3.11.7"
  }
 },
 "nbformat": 4,
 "nbformat_minor": 5
}
